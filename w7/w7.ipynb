{
 "cells": [
  {
   "cell_type": "markdown",
   "metadata": {},
   "source": [
    "# Class 7\n",
    "\n",
    "This class is going to be an introduction to using R for time series analysis and forecasting. We will spend some time getting used to working with some of the packages in the  _tidyverts_.\n",
    "\n",
    "\n",
    "First, a couple of digressions..\n",
    "\n",
    "## Using R with Jupyter on UCloud\n",
    "I have made a virtual R environment which includes the packages you _should_ need for the time series part of the course under common/renvs. To use it, follow these steps:\n",
    "\n",
    "1. Add the common folder when you start the Jupyter app\n",
    "2. Open a terminal and navigate to the renvs folder (cd common/renvs)\n",
    "3. Run the activate_renv.sh script (bash activate_renv.sh)\n",
    "4. Once it has run, refresh the page (press f5 or reload the page)\n",
    "5. If you open the launcher you should now see the r_ts_kernel. If you open a Jupyter notebook (for instance this one) you should be able to choose *r_ts_kernel* as the R kernel.\n",
    "\n",
    "If at some point you want to create your own R environment for UCloud, just modify the create_renv.sh script (ask me if you need help). \n",
    "\n",
    "## Data Science Project Structure\n",
    "\n",
    "I recommend following the [Cookiecutter Data Science](https://github.com/drivendata/cookiecutter-data-science/) project structure. It's super simple to use: follow the commands on the Github page, and it will automatically create a project folder with many premade folders for you to use (and customize to your need). Read more on suggested use cases etc. on their [website](http://drivendata.github.io/cookiecutter-data-science/#analysis-is-a-dag).\n",
    "\n",
    "You can also check out Danielle Navarros [slides](https://slides.djnavarro.net/project-structure/#1) on project structure, and the corresponding [template](https://github.com/djnavarro/newproject/) for a slightly simpler setup."
   ]
  },
  {
   "cell_type": "markdown",
   "metadata": {},
   "source": [
    "### Exercises\n",
    "1. Make sure the *r_ts_kernel* works for you.\n",
    "2. Set up a [Cookiecutter Data Science](https://github.com/drivendata/cookiecutter-data-science/) folder (or Danielle Navarros's [template](https://github.com/djnavarro/newproject/)) on your own laptop for your exam project in Data Science. \n",
    "3. Familiarize yourself with the folder structure and check the [accompanying website](http://drivendata.github.io/cookiecutter-data-science/#analysis-is-a-dag) for recommendations on how to use the project. Remember, this is just a guide. Not everything will be applicable to your project, so make sure to remove/add/modify the structure as it suits your preferences and project."
   ]
  },
  {
   "cell_type": "markdown",
   "metadata": {},
   "source": [
    "### tsibble\n",
    "\n",
    "tsibbles work much like the tibbles you know from the Tidyverse, but require an _index_ (and optionally _keys_) and are specialized for time series. The _index_ is the timeseries index (e.g. the date, month etc), and _keys_ are group variables. In most ways, it is highly similar to tibbles, and supports the tidyverse _verbs_ such as mutate, summarize, filter, select etc. \n",
    "Chapter 2 in [the forecasting book](https://otexts.com/fpp3/graphics.html) covers the basics - make sure you've read it. "
   ]
  },
  {
   "cell_type": "markdown",
   "metadata": {},
   "source": [
    "### Exercises\n",
    "\n",
    "Let's get acquainted with tsibble and plotting in the _tidyverts_"
   ]
  },
  {
   "cell_type": "code",
   "execution_count": 1,
   "metadata": {},
   "outputs": [
    {
     "ename": "ERROR",
     "evalue": "Error in library(tidyverse): there is no package called 'tidyverse'\n",
     "output_type": "error",
     "traceback": [
      "Error in library(tidyverse): there is no package called 'tidyverse'\nTraceback:\n",
      "1. library(tidyverse)"
     ]
    }
   ],
   "source": [
    "library(tidyverse)\n",
    "library(lubridate)\n",
    "library(tsibble)\n",
    "library(tsibbledata) # for accessing time series data from the book\n",
    "library(feasts) # for plotting functions (e.g. autoplot)\n"
   ]
  },
  {
   "cell_type": "code",
   "execution_count": null,
   "metadata": {},
   "outputs": [],
   "source": [
    "# Exercises\n",
    "\n",
    "\n",
    "#### 1 ####\n",
    "\n",
    "## a.\n",
    "### Create a tsibble which is identical to the tourism tsibble from the package\n",
    "### using the tourism.xlsx file \n",
    "\n",
    "data(tourism) # <-- what you want to recreate. This line loads the tourism dataset\n",
    "# into your environment. Interact with it as normal. eg:\n",
    "head(tourism)"
   ]
  },
  {
   "cell_type": "code",
   "execution_count": null,
   "metadata": {},
   "outputs": [],
   "source": [
    "## b.\n",
    "### Find the combination of Region and Purpose that had maximum number of  trips\n",
    "### on average in 2001"
   ]
  },
  {
   "cell_type": "code",
   "execution_count": null,
   "metadata": {},
   "outputs": [],
   "source": [
    "## c.\n",
    "### Find the combination of Region and Purpose that had the maximum number of trips\n",
    "### on average across all time"
   ]
  },
  {
   "cell_type": "code",
   "execution_count": null,
   "metadata": {},
   "outputs": [],
   "source": [
    "## d.\n",
    "### Plot the number of business trips per quarter in Melbourne"
   ]
  },
  {
   "cell_type": "code",
   "execution_count": null,
   "metadata": {},
   "outputs": [],
   "source": [
    "## e. \n",
    "### Calculate and plot the autocorrelation of the number of \n",
    "### holiday trips per quarter in Melbourne"
   ]
  },
  {
   "cell_type": "code",
   "execution_count": null,
   "metadata": {},
   "outputs": [],
   "source": [
    "## f.\n",
    "### plot the autocorrelation of the number of \"Visiting\" trips in Melbourne \n",
    "### between 2000 and 2005"
   ]
  },
  {
   "cell_type": "code",
   "execution_count": null,
   "metadata": {},
   "outputs": [],
   "source": [
    "## g.\n",
    "### Use the Ljung-Box test to test for autocorrelation in the number of\n",
    "### 1) holiday trips per quarter in Melbourne\n",
    "### 2) Number of visiting trips to Melbourne between 2000 and 2005\n",
    "### What are appropriate values for lag (h) and fitdf (k)?"
   ]
  },
  {
   "cell_type": "code",
   "execution_count": null,
   "metadata": {},
   "outputs": [],
   "source": [
    "## h.\n",
    "### Do the results from the test align with your intuition?"
   ]
  },
  {
   "cell_type": "code",
   "execution_count": null,
   "metadata": {},
   "outputs": [],
   "source": [
    "#### 2 #####\n",
    "\n",
    "## a. plot the usgdp data\n",
    "library(expsmooth) # more datasets (in ts format)\n",
    "data(usgdp) "
   ]
  },
  {
   "cell_type": "code",
   "execution_count": null,
   "metadata": {},
   "outputs": [],
   "source": [
    "## b, find an appropriate Box-Cox transformation for the usgdp data and plot it"
   ]
  },
  {
   "cell_type": "code",
   "execution_count": null,
   "metadata": {},
   "outputs": [],
   "source": [
    "## c.\n",
    "### Would a Box-Cox transformation be helpful for the cangas data? Why/why not?"
   ]
  },
  {
   "cell_type": "code",
   "execution_count": null,
   "metadata": {},
   "outputs": [],
   "source": [
    "data(cangas)"
   ]
  },
  {
   "cell_type": "code",
   "execution_count": 1,
   "metadata": {},
   "outputs": [],
   "source": [
    "## c. \n",
    "### 1) Fit a number of appropriate baseline models to the entropy of the Danish \n",
    "###    speeches you calculated last time.\n",
    "### 2) Check the residuals. Are they uncorrelated and normally distributed; \n",
    "###    is there something you didn't model?\n",
    "### 3) Divide the speeches into a train set including all speeches from the \n",
    "###    beginning until the end of Lars Løkke's term. Use Mette Frederiksen's\n",
    "###    speeches as the test set. How well are you able to predict the\n",
    "###    entropy of her speeches?"
   ]
  },
  {
   "cell_type": "markdown",
   "metadata": {},
   "source": [
    "## Done? \n",
    "Do the exercises from chapter 2 and 3 in the [book](https://otexts.com/fpp2/toolbox-exercises.html)"
   ]
  },
  {
   "cell_type": "code",
   "execution_count": null,
   "metadata": {},
   "outputs": [],
   "source": []
  }
 ],
 "metadata": {
  "kernelspec": {
   "display_name": "R",
   "language": "R",
   "name": "ir"
  },
  "language_info": {
   "codemirror_mode": "r",
   "file_extension": ".r",
   "mimetype": "text/x-r-source",
   "name": "R",
   "pygments_lexer": "r",
   "version": "3.6.1"
  }
 },
 "nbformat": 4,
 "nbformat_minor": 4
}
