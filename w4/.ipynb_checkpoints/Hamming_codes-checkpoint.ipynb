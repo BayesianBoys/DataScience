{
 "cells": [
  {
   "cell_type": "markdown",
   "metadata": {},
   "source": [
    "### Sending an Image"
   ]
  },
  {
   "cell_type": "markdown",
   "metadata": {},
   "source": [
    "Can we conceptualize a picture as a matrix, $M$, where $\\forall m_{ij} \\in M: m_{ij} = 0 \\text{ or } m_{ij} = 1$ "
   ]
  },
  {
   "cell_type": "code",
   "execution_count": null,
   "metadata": {},
   "outputs": [],
   "source": [
    "import cv2\n",
    "import numpy as np\n",
    "\n",
    "### NOTE: This will probably not be your path. Set your path accordingly! \n",
    "\n",
    "img_path = '/work/SG2/week 4/Emil_logo_tegn.png'\n",
    "img = cv2.imread(img_path, 0)"
   ]
  },
  {
   "cell_type": "code",
   "execution_count": null,
   "metadata": {},
   "outputs": [],
   "source": [
    "img_gray = img / 255 #A quirk of our image. White was 255, black is 0. Check your image."
   ]
  },
  {
   "cell_type": "code",
   "execution_count": null,
   "metadata": {},
   "outputs": [],
   "source": [
    "plt.imshow(img_gray, cmap = \"gray\") #show the image"
   ]
  },
  {
   "cell_type": "code",
   "execution_count": null,
   "metadata": {},
   "outputs": [],
   "source": [
    "## The dimension of the image\n",
    "\n",
    "img_gray.shape\n",
    "\n",
    "## Testing the functions - let's send some bits!\n",
    "\n",
    "bits = np.array([0,1,0,1])"
   ]
  },
  {
   "cell_type": "code",
   "execution_count": null,
   "metadata": {},
   "outputs": [],
   "source": [
    "def encoder(t):\n",
    "    r5 = sum(t[0:3]) % 2\n",
    "    r6 = sum(t[1:4]) % 2\n",
    "    r7 = (t[0] + t[2] + t[3]) % 2\n",
    "    \n",
    "    return np.append(t, [r5, r6, r7])    \n",
    "\n",
    "new_bits = encoder(bits)\n",
    "new_bits"
   ]
  },
  {
   "cell_type": "code",
   "execution_count": null,
   "metadata": {},
   "outputs": [],
   "source": [
    "import random\n",
    "def noise(t, f = 0.1):\n",
    "    n = np.random.binomial(1,f,7)\n",
    "    return (t + n)%2"
   ]
  },
  {
   "cell_type": "code",
   "execution_count": null,
   "metadata": {},
   "outputs": [],
   "source": [
    "r = noise(new_bits)\n",
    "r"
   ]
  },
  {
   "cell_type": "markdown",
   "metadata": {},
   "source": [
    "##### Parity check matrix"
   ]
  },
  {
   "cell_type": "code",
   "execution_count": null,
   "metadata": {},
   "outputs": [],
   "source": [
    "H = np.array([[1, 1, 1, 0, 1, 0, 0],[0, 1, 1, 1, 0, 1, 0], [1, 0, 1, 1, 0, 0, 1]])\n"
   ]
  },
  {
   "cell_type": "code",
   "execution_count": null,
   "metadata": {},
   "outputs": [],
   "source": [
    "def get_syndrome(r):\n",
    "    return r@H.transpose()%2\n",
    "\n",
    "z = get_syndrome(r)"
   ]
  },
  {
   "cell_type": "code",
   "execution_count": null,
   "metadata": {},
   "outputs": [],
   "source": [
    "def decode(z):\n",
    "    if np.all(z==np.array([0, 0, 0])):\n",
    "        n = np.array([0, 0, 0, 0, 0, 0, 0])\n",
    "    elif np.all(z==np.array([0, 0, 1])):\n",
    "        n = np.array([0, 0, 0, 0, 0, 0, 1])\n",
    "    elif np.all(z==np.array([0, 1, 0])):\n",
    "        n = np.array([0, 0, 0, 0, 0, 1, 0])\n",
    "    elif np.all(z==np.array([0, 1, 1])):\n",
    "        n = np.array([0, 0, 0, 1, 0, 0, 0])\n",
    "    elif np.all(z==np.array([1, 0, 0])):\n",
    "        n = np.array([0, 0, 0, 0, 1, 0, 0])\n",
    "    elif np.all(z==np.array([1, 0, 1])):\n",
    "        n = np.array([1, 0, 0, 0, 0, 0, 0])\n",
    "    elif np.all(z==np.array([1, 1, 0])):\n",
    "        n = np.array([0, 1, 0, 0, 0, 0, 0])\n",
    "    elif np.all(z==np.array([1, 1, 1])):\n",
    "        n = np.array([0, 0, 1, 0, 0, 0, 0])\n",
    "    else:\n",
    "        print(\"Input is not a valid syndrome\")\n",
    "    return(n)"
   ]
  },
  {
   "cell_type": "code",
   "execution_count": null,
   "metadata": {},
   "outputs": [],
   "source": [
    "def get_decode(r, z):\n",
    "    decoded = (r + decode(z))%2\n",
    "    return decoded[0:4]"
   ]
  },
  {
   "cell_type": "code",
   "execution_count": null,
   "metadata": {},
   "outputs": [],
   "source": [
    "def hamming(t, f = 0.1):\n",
    "    encoding = encoder(t)\n",
    "    r = noise(encoding, f)\n",
    "    z = get_syndrome(r)\n",
    "    return get_decode(r, z)"
   ]
  },
  {
   "cell_type": "markdown",
   "metadata": {},
   "source": [
    "## Imagine Images"
   ]
  },
  {
   "cell_type": "code",
   "execution_count": null,
   "metadata": {},
   "outputs": [],
   "source": [
    "#get shape\n",
    "\n",
    "def decode_image(img, f, show_image = False, show_org_image = False):\n",
    "    x, y = img.shape\n",
    "\n",
    "    b = img.ravel()\n",
    "\n",
    "    new_img = []\n",
    "\n",
    "    for i in range(0, len(b), 4):\n",
    "        new_img.append(hamming(b[0+i:4+i], f))\n",
    "\n",
    "    flat_list = [item for sublist in new_img for item in sublist]\n",
    "    \n",
    "    new_img_array = np.array(flat_list)\n",
    "    \n",
    "    new_img_z = new_img_array.reshape((x,y))\n",
    "    \n",
    "    if show_image and show_org_image:\n",
    "        fig, ax = plt.subplots(1, 2)\n",
    "        \n",
    "        ax[0].imshow(img_gray, cmap = \"gray\")\n",
    "        ax[0].axis(\"off\")\n",
    "        ax[0].set_title(\"Original Image\")\n",
    "        ax[1].imshow(new_img_z, cmap = \"gray\")\n",
    "        ax[1].axis(\"off\")\n",
    "        ax[1].set_title(\"Decoded Image\")\n",
    "        plt.show()\n",
    "    \n",
    "    #if show_image:\n",
    "     #   plt.imshow(new_img_z, cmap = \"gray\")\n",
    "    \n",
    "    return new_img_z"
   ]
  },
  {
   "cell_type": "code",
   "execution_count": null,
   "metadata": {},
   "outputs": [],
   "source": [
    "decode_image(img_gray, f = 0.4, show_image = True, show_org_image = True)"
   ]
  },
  {
   "cell_type": "code",
   "execution_count": null,
   "metadata": {},
   "outputs": [],
   "source": [
    "fig, ax = plt.subplots(1, 2)\n",
    "\n",
    "ax[0].imshow(img_gray, cmap = \"gray\")\n",
    "ax[0].axis(\"off\")\n",
    "ax[0].set_title(\"Original Image\")\n",
    "ax[1].imshow(new_img_z, cmap = \"gray\")\n",
    "ax[1].axis(\"off\")\n",
    "ax[1].set_title(\"Decoded Image\")\n",
    "plt.show()"
   ]
  }
 ],
 "metadata": {
  "kernelspec": {
   "display_name": "Python 3",
   "language": "python",
   "name": "python3"
  },
  "language_info": {
   "codemirror_mode": {
    "name": "ipython",
    "version": 3
   },
   "file_extension": ".py",
   "mimetype": "text/x-python",
   "name": "python",
   "nbconvert_exporter": "python",
   "pygments_lexer": "ipython3",
   "version": "3.8.5"
  }
 },
 "nbformat": 4,
 "nbformat_minor": 4
}
