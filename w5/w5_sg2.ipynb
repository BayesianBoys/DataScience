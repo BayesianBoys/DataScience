{
 "cells": [
  {
   "cell_type": "markdown",
   "metadata": {},
   "source": [
    "# NOTE:\n",
    "The paths are all over the place, as we have just moved it over to our funky little SG2 folder, instead of working in common. This has not been fixed. Good luck, future members of the study group!"
   ]
  },
  {
   "cell_type": "markdown",
   "metadata": {},
   "source": [
    "# Week 5: Entropy\n",
    "\n",
    "Today we'll work with some practical examples of entropy using speeches from Danish prime ministers. The goal of today is to give you an intuition of how information theory can be integrated with some of the methods that you've previously learned.\n",
    "\n",
    "In the file \"prime_minister_speeches.csv\" you'll find speeches scraped from https://www.stm.dk/statsministeren/taler/ which includes speeches given by Danish prime ministers since 1996, the date of the speech, and the person giving it. \n",
    "\n",
    "Your first task is to __use the provided word frequency lists to calculate the (mean) entropy of each speech__. The word frequency lists are in raw counts, so you will need to preprocess them slightly. There a few different frequency lists to choose from which have been estimated on different parts of the Danish Gigaword Corpus - check Table 1 [here](https://www.stm.dk/statsministeren/taler/) for an overview of the data sources. You can either choose the one you think is most relevant, concatenate them into a single file, prune them to only keep top N words, or whatever you think is most sensible. \n",
    "\n",
    "### __Exercise 1:__ \n",
    "\n",
    "- Plot the entropy over time. Can you spot any immediate patterns? Inspect any speeches that seem suspicious. \n"
   ]
  },
  {
   "cell_type": "code",
   "execution_count": 8,
   "metadata": {},
   "outputs": [],
   "source": [
    "import pandas as pd\n",
    "import os\n",
    "import json\n",
    "from collections import Counter\n",
    "import math\n",
    "import seaborn as sns"
   ]
  },
  {
   "cell_type": "code",
   "execution_count": 9,
   "metadata": {},
   "outputs": [
    {
     "data": {
      "text/plain": [
       "'/work/SG2/week 5'"
      ]
     },
     "execution_count": 9,
     "metadata": {},
     "output_type": "execute_result"
    }
   ],
   "source": [
    "os.getcwd() #current working directory"
   ]
  },
  {
   "cell_type": "code",
   "execution_count": 10,
   "metadata": {},
   "outputs": [],
   "source": [
    "df = pd.read_csv(\"../../common/w5/speeches_clean.csv\")"
   ]
  },
  {
   "cell_type": "code",
   "execution_count": 11,
   "metadata": {},
   "outputs": [],
   "source": [
    "list_of_dicts = os.listdir(path = \"../../common/w5/word_freqs\")"
   ]
  },
  {
   "cell_type": "code",
   "execution_count": 12,
   "metadata": {},
   "outputs": [],
   "source": [
    "total_counter = Counter()"
   ]
  },
  {
   "cell_type": "code",
   "execution_count": 13,
   "metadata": {},
   "outputs": [],
   "source": [
    "for i in list_of_dicts:\n",
    "    with open(\"../../common/w5/word_freqs/\"+i, \"r\") as file:\n",
    "        file_loaded = Counter(json.load(file))\n",
    "    total_counter += file_loaded\n",
    "        \n",
    "    "
   ]
  },
  {
   "cell_type": "code",
   "execution_count": 14,
   "metadata": {},
   "outputs": [],
   "source": [
    "total_sum = sum(total_counter.values())"
   ]
  },
  {
   "cell_type": "code",
   "execution_count": 15,
   "metadata": {},
   "outputs": [],
   "source": [
    "ent_dict = Counter({i: math.log(1/(total_counter.get(i)/total_sum)) for i in total_counter})"
   ]
  },
  {
   "cell_type": "markdown",
   "metadata": {},
   "source": [
    "$$ent = log\\frac{1}{P(x)}$$"
   ]
  },
  {
   "cell_type": "code",
   "execution_count": 16,
   "metadata": {},
   "outputs": [],
   "source": [
    "text_test = df.head(1)[\"text\"].values"
   ]
  },
  {
   "cell_type": "markdown",
   "metadata": {},
   "source": [
    "##### NOTE: \n",
    "There is a problem with captilization in both datasets."
   ]
  },
  {
   "cell_type": "code",
   "execution_count": 17,
   "metadata": {},
   "outputs": [],
   "source": [
    "first_speech = text_test[0].split()"
   ]
  },
  {
   "cell_type": "code",
   "execution_count": 18,
   "metadata": {},
   "outputs": [],
   "source": [
    "def mean_ent(text):\n",
    "    speech = text.split()\n",
    "    running_sum = 0\n",
    "    running_len = 0\n",
    "    for i in speech:\n",
    "        running_sum += ent_dict[i]\n",
    "        if ent_dict[i]:\n",
    "            running_len += 1\n",
    "    return running_sum / (len(speech) - running_len)\n",
    "    "
   ]
  },
  {
   "cell_type": "code",
   "execution_count": 19,
   "metadata": {},
   "outputs": [
    {
     "data": {
      "text/html": [
       "<div>\n",
       "<style scoped>\n",
       "    .dataframe tbody tr th:only-of-type {\n",
       "        vertical-align: middle;\n",
       "    }\n",
       "\n",
       "    .dataframe tbody tr th {\n",
       "        vertical-align: top;\n",
       "    }\n",
       "\n",
       "    .dataframe thead th {\n",
       "        text-align: right;\n",
       "    }\n",
       "</style>\n",
       "<table border=\"1\" class=\"dataframe\">\n",
       "  <thead>\n",
       "    <tr style=\"text-align: right;\">\n",
       "      <th></th>\n",
       "      <th>title</th>\n",
       "      <th>date</th>\n",
       "      <th>url</th>\n",
       "      <th>person</th>\n",
       "      <th>text</th>\n",
       "    </tr>\n",
       "  </thead>\n",
       "  <tbody>\n",
       "    <tr>\n",
       "      <th>0</th>\n",
       "      <td>Statsminister Poul Nyrup Rasmussens åbningsred...</td>\n",
       "      <td>1997-10-07T00:00:00Z</td>\n",
       "      <td>/statsministeren/taler/statsminister-poul-nyru...</td>\n",
       "      <td>Poul Nyrup Rasmussen</td>\n",
       "      <td>Danmark gør en forskel For 25 år siden sagde e...</td>\n",
       "    </tr>\n",
       "    <tr>\n",
       "      <th>1</th>\n",
       "      <td>Statsministerens åbning af globaliseringskonfe...</td>\n",
       "      <td>1997-10-28T00:00:00Z</td>\n",
       "      <td>/statsministeren/taler/statsministerens-aabnin...</td>\n",
       "      <td>Poul Nyrup Rasmussen</td>\n",
       "      <td>Stikord Danmark i en global verden Danmark er ...</td>\n",
       "    </tr>\n",
       "    <tr>\n",
       "      <th>2</th>\n",
       "      <td>Statsminister Poul Nyrup Rasmussens indlæg ved...</td>\n",
       "      <td>1997-11-11T00:00:00Z</td>\n",
       "      <td>/statsministeren/taler/statsminister-poul-nyru...</td>\n",
       "      <td>Poul Nyrup Rasmussen</td>\n",
       "      <td>Hr. Præsident, mine damer og herrer, Nye tider...</td>\n",
       "    </tr>\n",
       "    <tr>\n",
       "      <th>3</th>\n",
       "      <td>Statsministerens tale ved åbningen af OSCE ude...</td>\n",
       "      <td>1997-12-18T00:00:00Z</td>\n",
       "      <td>/statsministeren/taler/statsministerens-tale-v...</td>\n",
       "      <td>Poul Nyrup Rasmussen</td>\n",
       "      <td>Uofficiel oversættelse fra engelsk Deres Majes...</td>\n",
       "    </tr>\n",
       "    <tr>\n",
       "      <th>4</th>\n",
       "      <td>Statsminister Poul Nyrup Rasmussen nytårstale</td>\n",
       "      <td>1998-01-01T00:00:00Z</td>\n",
       "      <td>/statsministeren/taler/statsminister-poul-nyru...</td>\n",
       "      <td>Poul Nyrup Rasmussen</td>\n",
       "      <td>Godaften. 1998 bliver et skelsættende år for D...</td>\n",
       "    </tr>\n",
       "  </tbody>\n",
       "</table>\n",
       "</div>"
      ],
      "text/plain": [
       "                                               title                  date  \\\n",
       "0  Statsminister Poul Nyrup Rasmussens åbningsred...  1997-10-07T00:00:00Z   \n",
       "1  Statsministerens åbning af globaliseringskonfe...  1997-10-28T00:00:00Z   \n",
       "2  Statsminister Poul Nyrup Rasmussens indlæg ved...  1997-11-11T00:00:00Z   \n",
       "3  Statsministerens tale ved åbningen af OSCE ude...  1997-12-18T00:00:00Z   \n",
       "4      Statsminister Poul Nyrup Rasmussen nytårstale  1998-01-01T00:00:00Z   \n",
       "\n",
       "                                                 url                person  \\\n",
       "0  /statsministeren/taler/statsminister-poul-nyru...  Poul Nyrup Rasmussen   \n",
       "1  /statsministeren/taler/statsministerens-aabnin...  Poul Nyrup Rasmussen   \n",
       "2  /statsministeren/taler/statsminister-poul-nyru...  Poul Nyrup Rasmussen   \n",
       "3  /statsministeren/taler/statsministerens-tale-v...  Poul Nyrup Rasmussen   \n",
       "4  /statsministeren/taler/statsminister-poul-nyru...  Poul Nyrup Rasmussen   \n",
       "\n",
       "                                                text  \n",
       "0  Danmark gør en forskel For 25 år siden sagde e...  \n",
       "1  Stikord Danmark i en global verden Danmark er ...  \n",
       "2  Hr. Præsident, mine damer og herrer, Nye tider...  \n",
       "3  Uofficiel oversættelse fra engelsk Deres Majes...  \n",
       "4  Godaften. 1998 bliver et skelsættende år for D...  "
      ]
     },
     "execution_count": 19,
     "metadata": {},
     "output_type": "execute_result"
    }
   ],
   "source": [
    "df.head()"
   ]
  },
  {
   "cell_type": "code",
   "execution_count": 20,
   "metadata": {},
   "outputs": [],
   "source": [
    "df[\"mean_ent\"] = df[\"text\"].apply(lambda x: mean_ent(x))"
   ]
  },
  {
   "cell_type": "code",
   "execution_count": 21,
   "metadata": {},
   "outputs": [],
   "source": [
    "df = df.sort_values(by = \"date\", axis = 0, ascending = True)"
   ]
  },
  {
   "cell_type": "code",
   "execution_count": 22,
   "metadata": {},
   "outputs": [
    {
     "data": {
      "text/plain": [
       "<AxesSubplot:xlabel='date', ylabel='mean_ent'>"
      ]
     },
     "execution_count": 22,
     "metadata": {},
     "output_type": "execute_result"
    },
    {
     "data": {
      "image/png": "[encoded data removed]",
      "text/plain": [
       "<Figure size 432x288 with 1 Axes>"
      ]
     },
     "metadata": {
      "needs_background": "light"
     },
     "output_type": "display_data"
    }
   ],
   "source": [
    "sns.lineplot(data = df, x = \"date\", y = \"mean_ent\")"
   ]
  },
  {
   "cell_type": "markdown",
   "metadata": {},
   "source": [
    "## Kullback-Leibler Divergence\n",
    "\n",
    "Kullback-Leibler (KL) divergence is a type of _relative entropy_ which is a measure of how _one probability distribution differs from another_. For two discrete probability distributions $P$ and $Q$ (e.g. two binomials) it is defined as follows:\n",
    "\n",
    "$$D_\\text{KL}(P \\parallel Q) = \\sum_{x\\in\\mathcal{X}} P(x) \\log\\left(\\frac{P(x)}{Q(x)}\\right)$$"
   ]
  },
  {
   "cell_type": "markdown",
   "metadata": {},
   "source": [
    "\n",
    "\n",
    "Let's look at a quick example.\n",
    "\n",
    "Imagine we have two distributions, a binomial with $N = 2$ and $f=0.4$ and a uniform distribution with three possible outcomes (0, 1, 2) each with probability $1/3$ \n"
   ]
  },
  {
   "cell_type": "code",
   "execution_count": 23,
   "metadata": {},
   "outputs": [
    {
     "name": "stdout",
     "output_type": "stream",
     "text": [
      "binomial probabilities: [0.36, 0.48, 0.16000000000000003]\n"
     ]
    },
    {
     "data": {
      "image/png": "[encoded data removed]",
      "text/plain": [
       "<Figure size 360x216 with 2 Axes>"
      ]
     },
     "metadata": {
      "needs_background": "light"
     },
     "output_type": "display_data"
    }
   ],
   "source": [
    "from scipy.stats import binom\n",
    "import matplotlib.pyplot as plt\n",
    "\n",
    "N = 2\n",
    "f = 0.4\n",
    "r = [0, 1, 2]\n",
    "binomial_probs = [binom.pmf(n_success, N, f) for n_success in r]\n",
    "uniform_probs = [1/3, 1/3, 1/3]\n",
    "print(f\"binomial probabilities: {binomial_probs}\")\n",
    "\n",
    "# Plotting\n",
    "fig, axes = plt.subplots(nrows=1, ncols=2, figsize=(5,3))\n",
    "axes[0].bar(r, binomial_probs)\n",
    "axes[0].set_ylim(0, 0.5)\n",
    "axes[1].bar(r, uniform_probs)\n",
    "axes[1].set_ylim(0, 0.5)\n",
    "fig.tight_layout()"
   ]
  },
  {
   "cell_type": "markdown",
   "metadata": {},
   "source": [
    "To calculate the difference between the two we simply plug the values into our equation:\n",
    "\n",
    "Divergence from P (the binomial) to Q (the uniform):\n",
    "\n",
    "\\begin{align}\n",
    "D_\\text{KL}(P \\parallel Q) &= \\sum_{x\\in\\mathcal{X}} P(x) \\ln\\left(\\frac{P(x)}{Q(x)}\\right) \\\\\n",
    " &= 0.36 \\log\\left(\\frac{0.36}{1/3}\\right)\n",
    "+ 0.48 \\log\\left(\\frac{0.48}{1/3}\\right)\n",
    "+ 0.16  \\log\\left(\\frac{0.16}{1/3}\\right) \\\\\n",
    "&\\approx  0.12306\n",
    "\\end{align}"
   ]
  },
  {
   "cell_type": "markdown",
   "metadata": {},
   "source": [
    "Divergence from Q (the uniform) to Q (the binomail)\n",
    "\n",
    "\\begin{align}\n",
    "D_\\text{KL}(Q \\parallel P) &= \\sum_{x\\in\\mathcal{X}} Q(x) \\ln\\left(\\frac{Q(x)}{P(x)}\\right) \\\\\n",
    " &= \\frac{1}{3} \\log\\left(\\frac{1/3}{0.36}\\right)\n",
    "+ \\frac{1}{3} \\log\\left(\\frac{1/3}{0.48}\\right)\n",
    "+ \\frac{1}{3} \\log\\left(\\frac{1/3}{0.16}\\right) \\\\\n",
    " &\\approx 0.14060\n",
    "\\end{align}"
   ]
  },
  {
   "cell_type": "markdown",
   "metadata": {},
   "source": [
    "Notice that the two are not symmetric: the values change slightly depending on which is the reference distribution.\n",
    "\n",
    "KL divergence can be useful for many things. For instance, in the context of Bayesian inference by expressing how much information is gained by updating from the prior probability distribution $Q$ to the posterior probability distribution $P$. It can also be used as a loss function (commonly in the form of _cross entropy_) when training multiclass prediction models, as it allows to calculate the difference between the predicted probability distribution and the true distribution. Some clustering methods such as t-SNE also use KL divergence as loss function.\n",
    "\n",
    "Before we apply it to the speeches, let's build some intuition first."
   ]
  },
  {
   "cell_type": "markdown",
   "metadata": {},
   "source": [
    "### __Exercise 2__:\n",
    "\n",
    "- Implement a function for calculating KL divergence\n",
    "     - Check that your implementation agrees with scipy.stats.entropy\n",
    "\n",
    "- Calculate the KL divergence between the following distributions:\n",
    "\n",
    "    - Binomial(N=10, f=0.1), Binomial(N=10, f=0.5)\n",
    "\n",
    "    - Binomial(N=10, f=0.1), Binomial(N=10, f=0.3)\n",
    "\n",
    "    - Binomial(N=10, f=0.1), Binomial(N=10, f=0.1)\n",
    "    \n",
    "    - Binomial(N=19, f=0.7), Uniform(0.05)\n",
    "\n",
    "   "
   ]
  },
  {
   "cell_type": "code",
   "execution_count": 24,
   "metadata": {},
   "outputs": [],
   "source": [
    "from scipy.stats import entropy\n",
    "def kl_div(P, Q):\n",
    "    '''\n",
    "    Assumes everything.\n",
    "    Returns something.\n",
    "    '''\n",
    "    return sum([P[i] * math.log(P[i]/Q[i]) for i in range(len(P))])"
   ]
  },
  {
   "cell_type": "code",
   "execution_count": 25,
   "metadata": {},
   "outputs": [],
   "source": [
    "def get_results(P, Q):\n",
    "    return (kl_div(P,Q), entropy(P,Q))"
   ]
  },
  {
   "cell_type": "code",
   "execution_count": 26,
   "metadata": {},
   "outputs": [
    {
     "data": {
      "text/plain": [
       "(3.6806420716849724, 3.680642071684971)"
      ]
     },
     "execution_count": 26,
     "metadata": {},
     "output_type": "execute_result"
    }
   ],
   "source": [
    "get_results(binom.pmf(list(range(11)), 10, 0.1), binom.pmf(list(range(11)), 10, 0.5))"
   ]
  },
  {
   "cell_type": "code",
   "execution_count": 27,
   "metadata": {},
   "outputs": [
    {
     "data": {
      "text/plain": [
       "(1.163217565860045, 1.163217565860045)"
      ]
     },
     "execution_count": 27,
     "metadata": {},
     "output_type": "execute_result"
    }
   ],
   "source": [
    "get_results(binom.pmf(list(range(11)), 10, 0.1), binom.pmf(list(range(11)), 10, 0.3))"
   ]
  },
  {
   "cell_type": "code",
   "execution_count": 28,
   "metadata": {},
   "outputs": [
    {
     "data": {
      "text/plain": [
       "(0.0, 0.0)"
      ]
     },
     "execution_count": 28,
     "metadata": {},
     "output_type": "execute_result"
    }
   ],
   "source": [
    "get_results(binom.pmf(list(range(11)), 10, 0.1), binom.pmf(list(range(11)), 10, 0.1))"
   ]
  },
  {
   "cell_type": "code",
   "execution_count": 29,
   "metadata": {},
   "outputs": [],
   "source": [
    "from scipy.stats import uniform"
   ]
  },
  {
   "cell_type": "code",
   "execution_count": 30,
   "metadata": {},
   "outputs": [],
   "source": [
    "import numpy as np\n",
    "length = 20\n",
    "\n",
    "uniform_des = np.array([1/length for i in range(length)])"
   ]
  },
  {
   "cell_type": "code",
   "execution_count": 31,
   "metadata": {},
   "outputs": [
    {
     "data": {
      "text/plain": [
       "(0.8891102260354358, 0.8891102260354373)"
      ]
     },
     "execution_count": 31,
     "metadata": {},
     "output_type": "execute_result"
    }
   ],
   "source": [
    "get_results(binom.pmf(list(range(20)), 19, 0.7), uniform_des)"
   ]
  },
  {
   "cell_type": "markdown",
   "metadata": {},
   "source": [
    "As you learned in NLP, _topic models_ are a way to calculate a number of latent _topics_ from a set of documents. These topics characterize the content of the documents, and can be viewed as a low-dimensional representation of each document. Topic modelling gives us the probability distribution over the topics for each document, which allows us to use KL divergence to assess the documents by similarity. \n",
    "\n",
    "After topic modeling, we want our data to look something like this (assuming 3 topics):"
   ]
  },
  {
   "cell_type": "markdown",
   "metadata": {},
   "source": [
    "## Topic Models - Introducing Emil's Mega Crazy Super Function (EMCRSF)"
   ]
  },
  {
   "cell_type": "code",
   "execution_count": 32,
   "metadata": {},
   "outputs": [
    {
     "data": {
      "text/plain": [
       "64"
      ]
     },
     "execution_count": 32,
     "metadata": {},
     "output_type": "execute_result"
    }
   ],
   "source": [
    "import gensim\n",
    "import warnings\n",
    "import multiprocessing\n",
    "multiprocessing.cpu_count()"
   ]
  },
  {
   "cell_type": "code",
   "execution_count": 57,
   "metadata": {},
   "outputs": [],
   "source": [
    "stops = '''ad\n",
    "af\n",
    "aldrig\n",
    "alene\n",
    "alle\n",
    "allerede\n",
    "alligevel\n",
    "alt\n",
    "altid\n",
    "anden\n",
    "andet\n",
    "andre\n",
    "at\n",
    "bag\n",
    "bare\n",
    "begge\n",
    "bl.a.\n",
    "blandt\n",
    "blev\n",
    "blive\n",
    "bliver\n",
    "burde\n",
    "bør\n",
    "ca.\n",
    "da\n",
    "de\n",
    "dem\n",
    "den\n",
    "denne\n",
    "dens\n",
    "der\n",
    "derefter\n",
    "deres\n",
    "derfor\n",
    "derfra\n",
    "deri\n",
    "dermed\n",
    "derpå\n",
    "derved\n",
    "det\n",
    "dette\n",
    "dig\n",
    "din\n",
    "dine\n",
    "disse\n",
    "dit\n",
    "dog\n",
    "du\n",
    "efter\n",
    "egen\n",
    "ej\n",
    "eller\n",
    "ellers\n",
    "en\n",
    "end\n",
    "endnu\n",
    "ene\n",
    "eneste\n",
    "enhver\n",
    "ens\n",
    "enten\n",
    "er\n",
    "et\n",
    "f.eks.\n",
    "far\n",
    "fem\n",
    "fik\n",
    "fire\n",
    "flere\n",
    "flest\n",
    "fleste\n",
    "for\n",
    "foran\n",
    "fordi\n",
    "forrige\n",
    "fra\n",
    "fx\n",
    "få\n",
    "får\n",
    "før\n",
    "først\n",
    "gennem\n",
    "gjorde\n",
    "gjort\n",
    "god\n",
    "godt\n",
    "gør\n",
    "gøre\n",
    "gørende\n",
    "ham\n",
    "han\n",
    "hans\n",
    "har\n",
    "havde\n",
    "have\n",
    "hej\n",
    "hel\n",
    "heller\n",
    "helt\n",
    "hen\n",
    "hende\n",
    "hendes\n",
    "henover\n",
    "her\n",
    "herefter\n",
    "heri\n",
    "hermed\n",
    "herpå\n",
    "hos\n",
    "hun\n",
    "hvad\n",
    "hvem\n",
    "hver\n",
    "hvilke\n",
    "hvilken\n",
    "hvilkes\n",
    "hvis\n",
    "hvor\n",
    "hvordan\n",
    "hvorefter\n",
    "hvorfor\n",
    "hvorfra\n",
    "hvorhen\n",
    "hvori\n",
    "hvorimod\n",
    "hvornår\n",
    "hvorved\n",
    "i\n",
    "igen\n",
    "igennem\n",
    "ikke\n",
    "imellem\n",
    "imens\n",
    "imod\n",
    "ind\n",
    "indtil\n",
    "ingen\n",
    "intet\n",
    "ja\n",
    "jeg\n",
    "jer\n",
    "jeres\n",
    "jo\n",
    "kan\n",
    "kom\n",
    "komme\n",
    "kommer\n",
    "kun\n",
    "kunne\n",
    "lad\n",
    "langs\n",
    "lav\n",
    "lave\n",
    "lavet\n",
    "lidt\n",
    "lige\n",
    "ligesom\n",
    "lille\n",
    "længere\n",
    "man\n",
    "mand\n",
    "mange\n",
    "med\n",
    "meget\n",
    "mellem\n",
    "men\n",
    "mens\n",
    "mere\n",
    "mest\n",
    "mig\n",
    "min\n",
    "mindre\n",
    "mindst\n",
    "mine\n",
    "mit\n",
    "mod\n",
    "må\n",
    "måske\n",
    "ned\n",
    "nej\n",
    "nemlig\n",
    "ni\n",
    "nogen\n",
    "nogensinde\n",
    "noget\n",
    "nogle\n",
    "nok\n",
    "nu\n",
    "ny\n",
    "nyt\n",
    "når\n",
    "nær\n",
    "næste\n",
    "næsten\n",
    "og\n",
    "også\n",
    "okay\n",
    "om\n",
    "omkring\n",
    "op\n",
    "os\n",
    "otte\n",
    "over\n",
    "overalt\n",
    "pga.\n",
    "på\n",
    "samme\n",
    "sammen\n",
    "se\n",
    "seks\n",
    "selv\n",
    "selvom\n",
    "senere\n",
    "ser\n",
    "ses\n",
    "siden\n",
    "sig\n",
    "sige\n",
    "sin\n",
    "sine\n",
    "sit\n",
    "skal\n",
    "skulle\n",
    "som\n",
    "stadig\n",
    "stor\n",
    "store\n",
    "synes\n",
    "syntes\n",
    "syv\n",
    "så\n",
    "sådan\n",
    "således\n",
    "tag\n",
    "tage\n",
    "temmelig\n",
    "thi\n",
    "ti\n",
    "tidligere\n",
    "til\n",
    "tilbage\n",
    "tit\n",
    "to\n",
    "tre\n",
    "ud\n",
    "uden\n",
    "udover\n",
    "under\n",
    "undtagen\n",
    "var\n",
    "ved\n",
    "vi\n",
    "via\n",
    "vil\n",
    "ville\n",
    "vor\n",
    "vore\n",
    "vores\n",
    "vær\n",
    "være\n",
    "været\n",
    "øvrigt'''"
   ]
  },
  {
   "cell_type": "code",
   "execution_count": 58,
   "metadata": {},
   "outputs": [],
   "source": [
    "stops = stops.split(\"\\n\")"
   ]
  },
  {
   "cell_type": "code",
   "execution_count": 60,
   "metadata": {},
   "outputs": [],
   "source": [
    "import string\n",
    "puncts = string.punctuation + string.digits #if there are more than one digit, this doesn't work\n",
    "puncts = [i for i in puncts]"
   ]
  },
  {
   "cell_type": "code",
   "execution_count": 61,
   "metadata": {},
   "outputs": [],
   "source": [
    "for i in puncts:\n",
    "    stops.append(i)"
   ]
  },
  {
   "cell_type": "code",
   "execution_count": 62,
   "metadata": {},
   "outputs": [],
   "source": [
    "text_data = [i.lower().split() for i in df[\"text\"].values]"
   ]
  },
  {
   "cell_type": "code",
   "execution_count": 63,
   "metadata": {},
   "outputs": [],
   "source": [
    "text_data = [[i for i in sublist if i not in stops] for sublist in text_data]"
   ]
  },
  {
   "cell_type": "code",
   "execution_count": 37,
   "metadata": {},
   "outputs": [],
   "source": [
    "train_id2word = gensim.corpora.Dictionary(text_data) # Create Corpus texts = data_rdy # Term Document Frequency \n",
    "\n",
    "train_corpus = [train_id2word.doc2bow(text) for text in text_data]"
   ]
  },
  {
   "cell_type": "code",
   "execution_count": 44,
   "metadata": {},
   "outputs": [],
   "source": [
    "with warnings.catch_warnings(): \n",
    "    warnings.simplefilter('ignore') \n",
    "\n",
    "lda_train = gensim.models.ldamulticore.LdaMulticore(corpus=train_corpus, num_topics=8, id2word=train_id2word, chunksize=100, workers=60, per_word_topics=True) \n"
   ]
  },
  {
   "cell_type": "code",
   "execution_count": 48,
   "metadata": {},
   "outputs": [],
   "source": [
    "testing = lda_train.get_topics()"
   ]
  },
  {
   "cell_type": "code",
   "execution_count": 13,
   "metadata": {},
   "outputs": [
    {
     "data": {
      "text/html": [
       "<div>\n",
       "<style scoped>\n",
       "    .dataframe tbody tr th:only-of-type {\n",
       "        vertical-align: middle;\n",
       "    }\n",
       "\n",
       "    .dataframe tbody tr th {\n",
       "        vertical-align: top;\n",
       "    }\n",
       "\n",
       "    .dataframe thead th {\n",
       "        text-align: right;\n",
       "    }\n",
       "</style>\n",
       "<table border=\"1\" class=\"dataframe\">\n",
       "  <thead>\n",
       "    <tr style=\"text-align: right;\">\n",
       "      <th></th>\n",
       "      <th>text</th>\n",
       "      <th>topic1</th>\n",
       "      <th>topic2</th>\n",
       "      <th>topic3</th>\n",
       "    </tr>\n",
       "  </thead>\n",
       "  <tbody>\n",
       "    <tr>\n",
       "      <th>0</th>\n",
       "      <td>text1...</td>\n",
       "      <td>0.5</td>\n",
       "      <td>0.2</td>\n",
       "      <td>0.3</td>\n",
       "    </tr>\n",
       "    <tr>\n",
       "      <th>1</th>\n",
       "      <td>text2..</td>\n",
       "      <td>0.25</td>\n",
       "      <td>0.25</td>\n",
       "      <td>0.5</td>\n",
       "    </tr>\n",
       "    <tr>\n",
       "      <th>2</th>\n",
       "      <td>text3..</td>\n",
       "      <td>0.1</td>\n",
       "      <td>0.6</td>\n",
       "      <td>0.3</td>\n",
       "    </tr>\n",
       "    <tr>\n",
       "      <th>3</th>\n",
       "      <td>textN...</td>\n",
       "      <td>..</td>\n",
       "      <td>..</td>\n",
       "      <td>..</td>\n",
       "    </tr>\n",
       "  </tbody>\n",
       "</table>\n",
       "</div>"
      ],
      "text/plain": [
       "       text topic1 topic2 topic3\n",
       "0  text1...    0.5    0.2    0.3\n",
       "1   text2..   0.25   0.25    0.5\n",
       "2   text3..    0.1    0.6    0.3\n",
       "3  textN...     ..     ..     .."
      ]
     },
     "execution_count": 13,
     "metadata": {},
     "output_type": "execute_result"
    }
   ],
   "source": [
    "import pandas as pd\n",
    "\n",
    "data = {\"text\" : [\"text1...\", \"text2..\", \"text3..\", \"textN...\"],\n",
    "        \"topic1\" : [0.5, 0.25, 0.10, \"..\"],\n",
    "        \"topic2\" : [0.20, 0.25, 0.60, \"..\"],\n",
    "        \"topic3\":  [0.30, 0.50, 0.30, \"..\"]}\n",
    "pd.DataFrame(data)"
   ]
  },
  {
   "cell_type": "markdown",
   "metadata": {},
   "source": [
    "Notice that each row of topics sum to 1 because it is a probability distribution. \n",
    "\n",
    "### __Exercise 3__:\n",
    "\n",
    "1. Train a topic model on the speeches\n",
    "\n",
    "2. Get the full topic distribution for each speech\n",
    "\n",
    "3. Write a function that takes a text/row as input and returns the most similar speech by KL divergence\n",
    "\n",
    "\n",
    "Hints: \n",
    "- While experimenting and trying out your code, work on a subset of the data.\n",
    "\n",
    "- [Gensim](https://radimrehurek.com/gensim/models/ldamodel.html) makes topic modelling easy.\n",
    "\n",
    "- You can use the get_document_topics() method of the LdaModel/LdaMulticoreModel to get the topic distribution for a document/speech. Remember to set minimum_probability=0.0 to get the full distribution. \n",
    "\n",
    "More things to try:\n",
    "- Topic models can be greatly improved by preprocessing. Try to lemmatize the data, and remove stopwords and very common/very rare words.\n",
    "\n",
    "- KL divergence is not symmetric, and is therefore not a true distance metric. [Jensen-Shanon divergence](https://en.wikipedia.org/wiki/Jensen–Shannon_divergence) is a normalized version of KL divergence that is symmetric and can be used as a metric. Try to use Jensen–Shannon divergence instead. \n",
    "\n",
    "- Changes in KL divergence over time can be used to calculate some very interesting metrics such as novelty and resonance. Check this [blog post](https://centre-for-humanities-computing.github.io/Nordic-Digital-Humanities-Laboratory/portfolio/news_c19_method/) and corresponding [Github](https://github.com/centre-for-humanities-computing/newsFluxus)."
   ]
  },
  {
   "cell_type": "code",
   "execution_count": null,
   "metadata": {},
   "outputs": [],
   "source": []
  }
 ],
 "metadata": {
  "kernelspec": {
   "display_name": "Python 3",
   "language": "python",
   "name": "python3"
  },
  "language_info": {
   "codemirror_mode": {
    "name": "ipython",
    "version": 3
   },
   "file_extension": ".py",
   "mimetype": "text/x-python",
   "name": "python",
   "nbconvert_exporter": "python",
   "pygments_lexer": "ipython3",
   "version": "3.7.8"
  }
 },
 "nbformat": 4,
 "nbformat_minor": 4
}
