{
 "cells": [
  {
   "cell_type": "markdown",
   "id": "injured-silicon",
   "metadata": {},
   "source": [
    "# The (7,4) Hamming Code"
   ]
  },
  {
   "cell_type": "markdown",
   "id": "whole-recruitment",
   "metadata": {},
   "source": [
    "As a preliminary, we define a modulo 2 function."
   ]
  },
  {
   "cell_type": "code",
   "execution_count": 1,
   "id": "spare-america",
   "metadata": {},
   "outputs": [
    {
     "data": {
      "text/plain": [
       "mod2 (generic function with 1 method)"
      ]
     },
     "execution_count": 1,
     "metadata": {},
     "output_type": "execute_result"
    }
   ],
   "source": [
    "mod2(x) = mod(x,2)"
   ]
  },
  {
   "cell_type": "markdown",
   "id": "complimentary-thumb",
   "metadata": {},
   "source": [
    "For encoding, we need the $\\mathbf{G}$ matrix (Eq. 1.28 in MacKay, 2003)"
   ]
  },
  {
   "cell_type": "code",
   "execution_count": 2,
   "id": "thirty-boston",
   "metadata": {},
   "outputs": [
    {
     "data": {
      "text/plain": [
       "4×7 Array{Int64,2}:\n",
       " 1  0  0  0  1  0  1\n",
       " 0  1  0  0  1  1  0\n",
       " 0  0  1  0  1  1  1\n",
       " 0  0  0  1  0  1  1"
      ]
     },
     "execution_count": 2,
     "metadata": {},
     "output_type": "execute_result"
    }
   ],
   "source": [
    "G = [1 0 0 0 1 0 1; 0 1 0 0 1 1 0; 0 0 1 0 1 1 1; 0 0 0 1 0 1 1]"
   ]
  },
  {
   "cell_type": "markdown",
   "id": "opponent-duncan",
   "metadata": {},
   "source": [
    "Now we simply post-multiply $\\mathbf{G}$ to the source message $\\mathbf{s}$ to get the codeword $\\mathbf{t}$. In order to get a binary codeword, we need to take the result modulo 2."
   ]
  },
  {
   "cell_type": "code",
   "execution_count": 3,
   "id": "geographic-return",
   "metadata": {},
   "outputs": [
    {
     "data": {
      "text/plain": [
       "1×4 Array{Int64,2}:\n",
       " 1  0  1  1"
      ]
     },
     "execution_count": 3,
     "metadata": {},
     "output_type": "execute_result"
    }
   ],
   "source": [
    "s = [1 0 1 1]"
   ]
  },
  {
   "cell_type": "code",
   "execution_count": 4,
   "id": "located-lotus",
   "metadata": {},
   "outputs": [
    {
     "data": {
      "text/plain": [
       "1×7 Array{Int64,2}:\n",
       " 1  0  1  1  0  0  1"
      ]
     },
     "execution_count": 4,
     "metadata": {},
     "output_type": "execute_result"
    }
   ],
   "source": [
    "t = s*G .|> mod2"
   ]
  },
  {
   "cell_type": "markdown",
   "id": "enhanced-glance",
   "metadata": {},
   "source": [
    "The binary symmetric channel flips any transmitted bit with probability $f$. We use this property to generate a noise vector $\\mathbf{n}$."
   ]
  },
  {
   "cell_type": "code",
   "execution_count": 5,
   "id": "republican-mexico",
   "metadata": {},
   "outputs": [],
   "source": [
    "using Random"
   ]
  },
  {
   "cell_type": "code",
   "execution_count": 6,
   "id": "typical-alias",
   "metadata": {},
   "outputs": [
    {
     "data": {
      "text/plain": [
       "0.1"
      ]
     },
     "execution_count": 6,
     "metadata": {},
     "output_type": "execute_result"
    }
   ],
   "source": [
    "f = 0.1"
   ]
  },
  {
   "cell_type": "code",
   "execution_count": 7,
   "id": "temporal-rolling",
   "metadata": {},
   "outputs": [
    {
     "data": {
      "text/plain": [
       "1×7 BitArray{2}:\n",
       " 1  0  0  1  0  0  0"
      ]
     },
     "execution_count": 7,
     "metadata": {},
     "output_type": "execute_result"
    }
   ],
   "source": [
    "n = permutedims(rand(7).<f)"
   ]
  },
  {
   "cell_type": "markdown",
   "id": "provincial-israeli",
   "metadata": {},
   "source": [
    "The received vector $\\mathbf{r}$ is the sum (modulo 2) of the transmitted codeword $\\mathbf{t}$ and the noise $\\mathbf{n}$."
   ]
  },
  {
   "cell_type": "code",
   "execution_count": 8,
   "id": "chinese-provision",
   "metadata": {},
   "outputs": [
    {
     "data": {
      "text/plain": [
       "1×7 Array{Int64,2}:\n",
       " 0  0  1  0  0  0  1"
      ]
     },
     "execution_count": 8,
     "metadata": {},
     "output_type": "execute_result"
    }
   ],
   "source": [
    "r = t + n .|> mod2"
   ]
  },
  {
   "cell_type": "markdown",
   "id": "classified-denver",
   "metadata": {},
   "source": [
    "For decoding, we need the *parity-check matrix* $\\mathbf{H}$."
   ]
  },
  {
   "cell_type": "code",
   "execution_count": 9,
   "id": "worldwide-floor",
   "metadata": {},
   "outputs": [
    {
     "data": {
      "text/plain": [
       "3×7 Array{Int64,2}:\n",
       " 1  1  1  0  1  0  0\n",
       " 0  1  1  1  0  1  0\n",
       " 1  0  1  1  0  0  1"
      ]
     },
     "execution_count": 9,
     "metadata": {},
     "output_type": "execute_result"
    }
   ],
   "source": [
    "H = [1 1 1 0 1 0 0; 0 1 1 1 0 1 0; 1 0 1 1 0 0 1]"
   ]
  },
  {
   "cell_type": "markdown",
   "id": "sunrise-coffee",
   "metadata": {},
   "source": [
    "This enables us to calculate the *syndrome* $\\mathbf{z}$ of the received vector $\\mathbf{r}$."
   ]
  },
  {
   "cell_type": "code",
   "execution_count": 10,
   "id": "boolean-column",
   "metadata": {},
   "outputs": [
    {
     "data": {
      "text/plain": [
       "1×3 Array{Int64,2}:\n",
       " 1  1  0"
      ]
     },
     "execution_count": 10,
     "metadata": {},
     "output_type": "execute_result"
    }
   ],
   "source": [
    "z = r*H' .|> mod2"
   ]
  },
  {
   "cell_type": "markdown",
   "id": "little-reminder",
   "metadata": {},
   "source": [
    "Now we need a function that maps the syndrome $\\mathbf{z}$ onto the most likely noise vector $\\mathbf{\\hat{n}}$ (most likely for small flip rates $f$, that is)."
   ]
  },
  {
   "cell_type": "code",
   "execution_count": 11,
   "id": "visible-elder",
   "metadata": {},
   "outputs": [
    {
     "data": {
      "text/plain": [
       "nhat (generic function with 1 method)"
      ]
     },
     "execution_count": 11,
     "metadata": {},
     "output_type": "execute_result"
    }
   ],
   "source": [
    "function nhat(z)\n",
    "    if z == [0 0 0]\n",
    "        n = [0 0 0 0 0 0 0]\n",
    "    elseif z == [0 0 1]\n",
    "        n = [0 0 0 0 0 0 1]\n",
    "    elseif z == [0 1 0]\n",
    "        n = [0 0 0 0 0 1 0]\n",
    "    elseif z == [0 1 1]\n",
    "        n = [0 0 0 1 0 0 0]\n",
    "    elseif z == [1 0 0]\n",
    "        n = [0 0 0 0 1 0 0]\n",
    "    elseif z == [1 0 1]\n",
    "        n = [1 0 0 0 0 0 0]\n",
    "    elseif z == [1 1 0]\n",
    "        n = [0 1 0 0 0 0 0]\n",
    "    elseif z == [1 1 1]\n",
    "        n = [0 0 1 0 0 0 0]\n",
    "    else\n",
    "        error(\"Input is not a valid syndrome\")\n",
    "    end\n",
    "    \n",
    "    return(n)\n",
    "end"
   ]
  },
  {
   "cell_type": "code",
   "execution_count": 12,
   "id": "existing-mortgage",
   "metadata": {},
   "outputs": [
    {
     "data": {
      "text/plain": [
       "1×7 Array{Int64,2}:\n",
       " 0  1  0  0  0  0  0"
      ]
     },
     "execution_count": 12,
     "metadata": {},
     "output_type": "execute_result"
    }
   ],
   "source": [
    "nhat(z)"
   ]
  },
  {
   "cell_type": "markdown",
   "id": "common-eclipse",
   "metadata": {},
   "source": [
    "Our best guess $\\mathbf{\\hat{t}}$ for the transmitted vector $\\mathbf{t}$ is the sum (modulo 2) of the received vector $\\mathbf{r}$ and $\\mathbf{\\hat{n}}$. If at most one bit was flipped (i.e., $\\mathbf{n}$ contained at most one non-zero element), then our guess will be correct. However, if more than one bit was flipped during transmission, our guess will be wrong."
   ]
  },
  {
   "cell_type": "code",
   "execution_count": 13,
   "id": "fundamental-language",
   "metadata": {},
   "outputs": [
    {
     "data": {
      "text/plain": [
       "1×7 Array{Int64,2}:\n",
       " 0  1  1  0  0  0  1"
      ]
     },
     "execution_count": 13,
     "metadata": {},
     "output_type": "execute_result"
    }
   ],
   "source": [
    "that = r + nhat(z) .|> mod2"
   ]
  },
  {
   "cell_type": "markdown",
   "id": "engaging-rubber",
   "metadata": {},
   "source": [
    "Finally, our best guess $\\mathbf{\\hat{s}}$ for the source vector is the first four bits of $\\mathbf{\\hat{t}}$."
   ]
  },
  {
   "cell_type": "code",
   "execution_count": 14,
   "id": "affiliated-liberty",
   "metadata": {},
   "outputs": [
    {
     "data": {
      "text/plain": [
       "1×4 Array{Int64,2}:\n",
       " 0  1  1  0"
      ]
     },
     "execution_count": 14,
     "metadata": {},
     "output_type": "execute_result"
    }
   ],
   "source": [
    "shat = that[:,1:4]"
   ]
  }
 ],
 "metadata": {
  "kernelspec": {
   "display_name": "Julia 1.5.3",
   "language": "julia",
   "name": "julia-1.5"
  },
  "language_info": {
   "file_extension": ".jl",
   "mimetype": "application/julia",
   "name": "julia",
   "version": "1.5.3"
  }
 },
 "nbformat": 4,
 "nbformat_minor": 5
}
