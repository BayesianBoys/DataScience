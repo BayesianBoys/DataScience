{
 "cells": [
  {
   "cell_type": "markdown",
   "id": "injured-silicon",
   "metadata": {},
   "source": [
    "# The (7,4) Hamming Code"
   ]
  },
  {
   "cell_type": "markdown",
   "id": "whole-recruitment",
   "metadata": {},
   "source": [
    "As a preliminary, we define a modulo 2 function."
   ]
  },
  {
   "cell_type": "code",
   "execution_count": 82,
   "metadata": {},
   "outputs": [],
   "source": [
    "import numpy as np"
   ]
  },
  {
   "cell_type": "markdown",
   "id": "complimentary-thumb",
   "metadata": {},
   "source": [
    "For encoding, we need the $\\mathbf{G}$ matrix (Eq. 1.28 in MacKay, 2003)"
   ]
  },
  {
   "cell_type": "code",
   "execution_count": 83,
   "id": "thirty-boston",
   "metadata": {},
   "outputs": [],
   "source": [
    "\n",
    "G = np.array([[1, 0, 0, 0, 1, 0, 1],[ 0, 1, 0, 0, 1, 1, 0], [0, 0, 1, 0, 1, 1, 1],[0, 0, 0, 1, 0, 1, 1]])"
   ]
  },
  {
   "cell_type": "markdown",
   "id": "opponent-duncan",
   "metadata": {},
   "source": [
    "Now we simply post-multiply $\\mathbf{G}$ to the source message $\\mathbf{s}$ to get the codeword $\\mathbf{t}$. In order to get a binary codeword, we need to take the result modulo 2."
   ]
  },
  {
   "cell_type": "code",
   "execution_count": 84,
   "id": "geographic-return",
   "metadata": {},
   "outputs": [],
   "source": [
    "s = np.array([1, 0, 1, 1]) "
   ]
  },
  {
   "cell_type": "code",
   "execution_count": 85,
   "id": "located-lotus",
   "metadata": {},
   "outputs": [
    {
     "output_type": "execute_result",
     "data": {
      "text/plain": [
       "array([1, 0, 1, 1, 0, 0, 1], dtype=int32)"
      ]
     },
     "metadata": {},
     "execution_count": 85
    }
   ],
   "source": [
    "#Apply mod2 to all entries\n",
    "t = s@G\n",
    "t=t%2\n",
    "t\n"
   ]
  },
  {
   "cell_type": "markdown",
   "id": "enhanced-glance",
   "metadata": {},
   "source": [
    "The binary symmetric channel flips any transmitted bit with probability $f$. We use this property to generate a noise vector $\\mathbf{n}$."
   ]
  },
  {
   "cell_type": "code",
   "execution_count": 86,
   "id": "republican-mexico",
   "metadata": {},
   "outputs": [],
   "source": [
    "import random\n",
    "f = 0.1\n",
    "n = np.random.binomial(1,f,7)"
   ]
  },
  {
   "cell_type": "markdown",
   "id": "provincial-israeli",
   "metadata": {},
   "source": [
    "The received vector $\\mathbf{r}$ is the sum (modulo 2) of the transmitted codeword $\\mathbf{t}$ and the noise $\\mathbf{n}$."
   ]
  },
  {
   "cell_type": "code",
   "execution_count": 87,
   "id": "chinese-provision",
   "metadata": {},
   "outputs": [
    {
     "output_type": "stream",
     "name": "stdout",
     "text": [
      "[1 0 1 1 0 0 1] [1 0 0 0 0 0 0] [0 0 1 1 0 0 1]\n"
     ]
    }
   ],
   "source": [
    "r = (t + n)%2\n",
    "print(t,n,r)"
   ]
  },
  {
   "cell_type": "markdown",
   "id": "classified-denver",
   "metadata": {},
   "source": [
    "For decoding, we need the *parity-check matrix* $\\mathbf{H}$."
   ]
  },
  {
   "cell_type": "code",
   "execution_count": 88,
   "id": "worldwide-floor",
   "metadata": {},
   "outputs": [],
   "source": [
    "H = np.array([[1, 1, 1, 0, 1, 0, 0],[0, 1, 1, 1, 0, 1, 0], [1, 0, 1, 1, 0, 0, 1]])"
   ]
  },
  {
   "cell_type": "markdown",
   "id": "sunrise-coffee",
   "metadata": {},
   "source": [
    "This enables us to calculate the *syndrome* $\\mathbf{z}$ of the received vector $\\mathbf{r}$."
   ]
  },
  {
   "cell_type": "code",
   "execution_count": 89,
   "id": "boolean-column",
   "metadata": {},
   "outputs": [
    {
     "output_type": "execute_result",
     "data": {
      "text/plain": [
       "array([1, 0, 1], dtype=int32)"
      ]
     },
     "metadata": {},
     "execution_count": 89
    }
   ],
   "source": [
    "z = r@H.transpose()%2\n",
    "z"
   ]
  },
  {
   "cell_type": "markdown",
   "id": "little-reminder",
   "metadata": {},
   "source": [
    "Now we need a function that maps the syndrome $\\mathbf{z}$ onto the most likely noise vector $\\mathbf{\\hat{n}}$ (most likely for small flip rates $f$, that is)."
   ]
  },
  {
   "cell_type": "code",
   "execution_count": 90,
   "metadata": {},
   "outputs": [
    {
     "output_type": "execute_result",
     "data": {
      "text/plain": [
       "False"
      ]
     },
     "metadata": {},
     "execution_count": 90
    }
   ],
   "source": [
    "np.all(z==np.array([0, 0, 0])) "
   ]
  },
  {
   "cell_type": "code",
   "execution_count": 91,
   "id": "visible-elder",
   "metadata": {},
   "outputs": [],
   "source": [
    "def nhat(z):\n",
    "    if np.all(z==np.array([0, 0, 0])):\n",
    "        n = np.array([0, 0, 0, 0, 0, 0, 0])\n",
    "    elif np.all(z==np.array([0, 0, 1])):\n",
    "        n = np.array([0, 0, 0, 0, 0, 0, 1])\n",
    "    elif np.all(z==np.array([0, 1, 0])):\n",
    "        n = np.array([0, 0, 0, 0, 0, 1, 0])\n",
    "    elif np.all(z==np.array([0, 1, 1])):\n",
    "        n = np.array([0, 0, 0, 1, 0, 0, 0])\n",
    "    elif np.all(z==np.array([1, 0, 0])):\n",
    "        n = np.array([0, 0, 0, 0, 1, 0, 0])\n",
    "    elif np.all(z==np.array([1, 0, 1])):\n",
    "        n = np.array([1, 0, 0, 0, 0, 0, 0])\n",
    "    elif np.all(z==np.array([1, 1, 0])):\n",
    "        n = np.array([0, 1, 0, 0, 0, 0, 0])\n",
    "    elif np.all(z==np.array([1, 1, 1])):\n",
    "        n = np.array([0, 0, 1, 0, 0, 0, 0])\n",
    "    else:\n",
    "        print(\"Input is not a valid syndrome\")\n",
    "    return(n)\n",
    "\n"
   ]
  },
  {
   "cell_type": "code",
   "execution_count": 92,
   "id": "existing-mortgage",
   "metadata": {},
   "outputs": [
    {
     "output_type": "execute_result",
     "data": {
      "text/plain": [
       "array([1, 0, 0, 0, 0, 0, 0])"
      ]
     },
     "metadata": {},
     "execution_count": 92
    }
   ],
   "source": [
    "nhat(z)"
   ]
  },
  {
   "cell_type": "markdown",
   "id": "common-eclipse",
   "metadata": {},
   "source": [
    "Our best guess $\\mathbf{\\hat{t}}$ for the transmitted vector $\\mathbf{t}$ is the sum (modulo 2) of the received vector $\\mathbf{r}$ and $\\mathbf{\\hat{n}}$. If at most one bit was flipped (i.e., $\\mathbf{n}$ contained at most one non-zero element), then our guess will be correct. However, if more than one bit was flipped during transmission, our guess will be wrong."
   ]
  },
  {
   "cell_type": "code",
   "execution_count": 93,
   "id": "fundamental-language",
   "metadata": {},
   "outputs": [
    {
     "output_type": "stream",
     "name": "stdout",
     "text": [
      "[1 0 1 1 0 0 1]\n"
     ]
    },
    {
     "output_type": "execute_result",
     "data": {
      "text/plain": [
       "array([1, 0, 1, 1, 0, 0, 1], dtype=int32)"
      ]
     },
     "metadata": {},
     "execution_count": 93
    }
   ],
   "source": [
    "that = (r + nhat(z))%2\n",
    "print(t)\n",
    "that"
   ]
  },
  {
   "cell_type": "markdown",
   "id": "engaging-rubber",
   "metadata": {},
   "source": [
    "Finally, our best guess $\\mathbf{\\hat{s}}$ for the source vector is the first four bits of $\\mathbf{\\hat{t}}$."
   ]
  },
  {
   "cell_type": "code",
   "execution_count": 98,
   "id": "affiliated-liberty",
   "metadata": {},
   "outputs": [
    {
     "output_type": "execute_result",
     "data": {
      "text/plain": [
       "array([1, 0, 1, 1], dtype=int32)"
      ]
     },
     "metadata": {},
     "execution_count": 98
    }
   ],
   "source": [
    "shat = that[0:4]\n",
    "shat"
   ]
  },
  {
   "cell_type": "code",
   "execution_count": null,
   "metadata": {},
   "outputs": [],
   "source": []
  }
 ],
 "metadata": {
  "kernelspec": {
   "name": "python3",
   "display_name": "Python 3.8.5 64-bit ('datas': conda)",
   "metadata": {
    "interpreter": {
     "hash": "9f85d914290606a323cc56de9435b7942af32f60051201343944f78468ca5820"
    }
   }
  },
  "language_info": {
   "file_extension": ".jl",
   "mimetype": "application/julia",
   "name": "julia",
   "version": "3.8.5-final"
  }
 },
 "nbformat": 4,
 "nbformat_minor": 5
}