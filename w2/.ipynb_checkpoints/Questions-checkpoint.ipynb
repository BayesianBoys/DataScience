{
 "cells": [
  {
   "cell_type": "markdown",
   "id": "external-choice",
   "metadata": {},
   "source": [
    "# General Questions"
   ]
  },
  {
   "cell_type": "markdown",
   "id": "desperate-branch",
   "metadata": {},
   "source": [
    "### Cross-validation: \n",
    "Seems that it is used both as a way of testing the model on unseen data without having to set aside a test set. <br/>\n",
    "However, it also seems that people sometiems use it as a dev-set and then actually have another test set. <br/>\n",
    "In that case which model do we use on the test set (i.e. do we average the k fits in the cross-validation, do we <br/>\n",
    "take the overall best model and train it on all the training data). "
   ]
  },
  {
   "cell_type": "markdown",
   "id": "south-stockholm",
   "metadata": {},
   "source": [
    "# Things we noticed"
   ]
  },
  {
   "cell_type": "markdown",
   "id": "green-methodology",
   "metadata": {},
   "source": [
    "### unique\n",
    "There is no overlap between train (full) and test data-frames (as expected). <br/>\n",
    "However, there are a couple of names that overlap (but they are different people). <br/>\n",
    "Miss Kate?"
   ]
  },
  {
   "cell_type": "markdown",
   "id": "large-helen",
   "metadata": {},
   "source": [
    "### data \n",
    "Better to use less data (predictors) for more or less all models. <br/>\n",
    "In addition to the predictors that Lasse excluded, we also excluded: <br/>\n",
    "\"Parch\", \"SibSp\", \"Embarked_C\", \"Embarked_Q\", \"Embarked_S\""
   ]
  },
  {
   "cell_type": "markdown",
   "id": "brutal-termination",
   "metadata": {},
   "source": [
    "### models\n",
    "Random forest outperforms logistic regression (on cross-validation w. less data) with tweaks to settings. <br/>\n",
    "Ridge Regression is brilliant it seems. "
   ]
  },
  {
   "cell_type": "markdown",
   "id": "ultimate-collaboration",
   "metadata": {},
   "source": [
    "### scoring methods\n",
    "The \"scoring\" argument to cross_val_score(). <br/>\n",
    "We believe that baseline is accuracy. <br/>\n",
    "We have used \"f1\" as this is binary prediction. <br/>\n",
    "Weighted average makes more sense it seems. <br/>\n",
    "Genererally we have been more preoccupied with <br/>\n",
    "cross_val_score() and \"f1\" than with accuracy on test set. "
   ]
  }
 ],
 "metadata": {
  "kernelspec": {
   "display_name": "Python 3",
   "language": "python",
   "name": "python3"
  },
  "language_info": {
   "codemirror_mode": {
    "name": "ipython",
    "version": 3
   },
   "file_extension": ".py",
   "mimetype": "text/x-python",
   "name": "python",
   "nbconvert_exporter": "python",
   "pygments_lexer": "ipython3",
   "version": "3.9.1"
  }
 },
 "nbformat": 4,
 "nbformat_minor": 5
}
