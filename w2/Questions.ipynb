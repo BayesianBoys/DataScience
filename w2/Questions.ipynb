{
 "cells": [
  {
   "cell_type": "markdown",
   "id": "external-choice",
   "metadata": {},
   "source": [
    "# General Questions"
   ]
  },
  {
   "cell_type": "markdown",
   "id": "desperate-branch",
   "metadata": {},
   "source": [
    "### Cross-validation: \n",
    "Seems that it is used both as a way of testing the model on unseen data without having to set aside a test set. \n",
    "However, it also seems that people sometiems use it as a dev-set and then actually have another test set. \n",
    "In that case which model do we use on the test set (i.e. do we average the k fits in the cross-validation, do we \n",
    "take the overall best model and train it on all the training data). "
   ]
  },
  {
   "cell_type": "markdown",
   "id": "south-stockholm",
   "metadata": {},
   "source": [
    "# Things we noticed"
   ]
  },
  {
   "cell_type": "markdown",
   "id": "green-methodology",
   "metadata": {},
   "source": [
    "### unique\n",
    "There is no overlap between train (full) and test data-frames (as expected). \n",
    "However, there are a couple of names that overlap (but they are different people)."
   ]
  },
  {
   "cell_type": "markdown",
   "id": "large-helen",
   "metadata": {},
   "source": [
    "### data \n",
    "Better to use less data (predictors) for logistic regression (& for random forest)."
   ]
  },
  {
   "cell_type": "markdown",
   "id": "brutal-termination",
   "metadata": {},
   "source": [
    "### models\n",
    "Random forest outperforms logistic regression with tweaks to settings. \n",
    "It is not a lot better though.\n",
    "RidgeRegression is brilliant. "
   ]
  },
  {
   "cell_type": "markdown",
   "id": "ultimate-collaboration",
   "metadata": {},
   "source": [
    "### scoring methods\n",
    "The \"scoring\" argument to cross_val_score(). \n",
    "We believe that baseline is accuracy.\n",
    "We have used \"f1\" as this is binary prediction. \n",
    "Weighted average makes more sense at it "
   ]
  }
 ],
 "metadata": {
  "kernelspec": {
   "display_name": "Python 3",
   "language": "python",
   "name": "python3"
  },
  "language_info": {
   "codemirror_mode": {
    "name": "ipython",
    "version": 3
   },
   "file_extension": ".py",
   "mimetype": "text/x-python",
   "name": "python",
   "nbconvert_exporter": "python",
   "pygments_lexer": "ipython3",
   "version": "3.9.1"
  }
 },
 "nbformat": 4,
 "nbformat_minor": 5
}
